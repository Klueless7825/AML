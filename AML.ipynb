{
 "cells": [
  {
   "cell_type": "code",
   "execution_count": 18,
   "metadata": {
    "collapsed": false
   },
   "outputs": [
    {
     "name": "stderr",
     "output_type": "stream",
     "text": [
      "/Users/quit/Competitions/kaggle/lib/python2.7/site-packages/sklearn/cross_validation.py:44: DeprecationWarning: This module was deprecated in version 0.18 in favor of the model_selection module into which all the refactored classes and functions are moved. Also note that the interface of the new CV iterators are different from that of this module. This module will be removed in 0.20.\n",
      "  \"This module will be removed in 0.20.\", DeprecationWarning)\n"
     ]
    }
   ],
   "source": [
    "import numpy as np\n",
    "import pandas as pd\n",
    "import xgboost as xgb"
   ]
  },
  {
   "cell_type": "code",
   "execution_count": 2,
   "metadata": {
    "collapsed": false
   },
   "outputs": [
    {
     "name": "stdout",
     "output_type": "stream",
     "text": [
      "(1000000, 26)\n",
      "(1000000, 25)\n",
      "(1000000, 25)\n",
      "(1000000, 25)\n",
      "(362223, 25)\n",
      "(1503085, 22)\n"
     ]
    }
   ],
   "source": [
    "X_train_1 = pd.read_csv(\"../aml_data/train/Train-Data-Set-1.csv\"); print X_train_1.shape\n",
    "X_train_2 = pd.read_csv(\"../aml_data/train/Train-Data-Set-2.csv\"); print X_train_2.shape\n",
    "X_train_3 = pd.read_csv(\"../aml_data/train/Train-Data-Set-3.csv\"); print X_train_3.shape\n",
    "X_train_4 = pd.read_csv(\"../aml_data/train/Train-Data-Set-4.csv\"); print X_train_4.shape\n",
    "X_train_5 = pd.read_csv(\"../aml_data/train/Train-Data-Set-5.csv\"); print X_train_5.shape\n",
    "\n",
    "X_train_1 = X_train_1.drop(['Unnamed: 25'], axis=1)\n",
    "\n",
    "X_test = pd.read_csv(\"../aml_data/test.csv\"); print X_test.shape"
   ]
  },
  {
   "cell_type": "code",
   "execution_count": 3,
   "metadata": {
    "collapsed": false
   },
   "outputs": [
    {
     "name": "stdout",
     "output_type": "stream",
     "text": [
      "(4362223, 25)\n"
     ]
    }
   ],
   "source": [
    "X_train = pd.concat([X_train_1, X_train_2, X_train_3, X_train_4, X_train_5]); print X_train.shape"
   ]
  },
  {
   "cell_type": "code",
   "execution_count": 4,
   "metadata": {
    "collapsed": true
   },
   "outputs": [],
   "source": [
    "del X_train_1, X_train_2, X_train_3, X_train_4, X_train_5"
   ]
  },
  {
   "cell_type": "code",
   "execution_count": 5,
   "metadata": {
    "collapsed": false
   },
   "outputs": [],
   "source": [
    "X_train['Receiver_Customer'] = (X_train['CustomerName'] == X_train['ReceiverName']).astype(int)\n",
    "X_train['Sender_Customer'] = (X_train['CustomerName'] == X_train['SenderName']).astype(int)\n",
    "\n",
    "X_test['Receiver_Customer'] = (X_test['CustomerName'] == X_test['ReceiverName']).astype(int)\n",
    "X_test['Sender_Customer'] = (X_test['CustomerName'] == X_test['SenderName']).astype(int)"
   ]
  },
  {
   "cell_type": "markdown",
   "metadata": {},
   "source": [
    "# NOTES:\n",
    "    - (Timestamp('2016-03-01 00:00:00'), Timestamp('2016-07-29 00:00:00'))\n",
    "    - (Timestamp('2016-08-01 00:00:00'), Timestamp('2016-09-30 00:00:00'))\n",
    "    - Unique Customers in Train:915\n",
    "    - Unique Customers in Test: 833\n",
    "    - # Customer ID is exactly equal to Customer Name - hence, ignore.\n",
    "    - Account CloseDate is missing for 99.99% of the data - hence, ignore."
   ]
  },
  {
   "cell_type": "code",
   "execution_count": 6,
   "metadata": {
    "collapsed": true
   },
   "outputs": [],
   "source": [
    "drop_cols = ['CustomerName', 'Account CloseDate']\n",
    "X_train = X_train.drop(drop_cols, axis=1)\n",
    "X_test = X_test.drop(drop_cols, axis=1)"
   ]
  },
  {
   "cell_type": "code",
   "execution_count": 7,
   "metadata": {
    "collapsed": false
   },
   "outputs": [],
   "source": [
    "X_train['Account OpenDate'] = pd.to_datetime(X_train['Account OpenDate'], format=\"%d.%m.%Y\")\n",
    "X_train['Account OpenDate_Day'] = X_train['Account OpenDate'].dt.day\n",
    "X_train['Account OpenDate_Month'] = X_train['Account OpenDate'].dt.month\n",
    "X_train['Account OpenDate_Year'] = X_train['Account OpenDate'].dt.year\n",
    "\n",
    "X_train['PaymentDate'] = pd.to_datetime(X_train['PaymentDate'], format=\"%d.%m.%Y\")\n",
    "X_train['PaymentDate_Day'] = X_train['PaymentDate'].dt.day\n",
    "X_train['PaymentDate_Month'] = X_train['PaymentDate'].dt.month\n",
    "\n",
    "\n",
    "X_test['Account OpenDate'] = pd.to_datetime(X_test['Account OpenDate'], format=\"%d.%m.%Y\")\n",
    "X_test['Account OpenDate_Day'] = X_test['Account OpenDate'].dt.day\n",
    "X_test['Account OpenDate_Month'] = X_test['Account OpenDate'].dt.month\n",
    "X_test['Account OpenDate_Year'] = X_test['Account OpenDate'].dt.year\n",
    "\n",
    "X_test['PaymentDate'] = pd.to_datetime(X_test['PaymentDate'], format=\"%d.%m.%Y\")\n",
    "X_test['PaymentDate_Day'] = X_test['PaymentDate'].dt.day\n",
    "X_test['PaymentDate_Month'] = X_test['PaymentDate'].dt.month"
   ]
  },
  {
   "cell_type": "code",
   "execution_count": 8,
   "metadata": {
    "collapsed": true
   },
   "outputs": [],
   "source": [
    "X_train['Age'] = (X_train['PaymentDate'] - X_train['Account OpenDate']).dt.days\n",
    "X_test['Age'] = (X_test['PaymentDate'] - X_test['Account OpenDate']).dt.days"
   ]
  },
  {
   "cell_type": "code",
   "execution_count": 9,
   "metadata": {
    "collapsed": false
   },
   "outputs": [],
   "source": [
    "X_train = X_train[X_train['AML3'].notnull()].reset_index(drop=True)"
   ]
  },
  {
   "cell_type": "code",
   "execution_count": 8,
   "metadata": {
    "collapsed": false
   },
   "outputs": [],
   "source": [
    "# %matplotlib inline\n",
    "# X_train['Account OpenDate_Year'].value_counts().sort_index().plot(kind='bar', figsize=(10, 8), \n",
    "#                                                                   title=\"Yearly Distribution\")"
   ]
  },
  {
   "cell_type": "code",
   "execution_count": 10,
   "metadata": {
    "collapsed": false
   },
   "outputs": [
    {
     "data": {
      "text/plain": [
       "Index([u'Sl.No', u'PaymentRef', u'CustomerId', u'Custmer Account Number',\n",
       "       u'Account OpenDate', u'AccountCurrency', u'Sent/Received', u'Amount',\n",
       "       u'Payment', u'PaymentDate', u'Type', u'SenderName', u'SenderAddress',\n",
       "       u'ReceiverName', u'ReceiverAddress', u'SenderCountry',\n",
       "       u'ReceiverCountry', u'SenderCorrespondent', u'ReceiverCorrespondent',\n",
       "       u'ReceiverAccount', u'AML1', u'AML2', u'AML3', u'Receiver_Customer',\n",
       "       u'Sender_Customer', u'Account OpenDate_Day', u'Account OpenDate_Month',\n",
       "       u'Account OpenDate_Year', u'PaymentDate_Day', u'PaymentDate_Month',\n",
       "       u'Age'],\n",
       "      dtype='object')"
      ]
     },
     "execution_count": 10,
     "metadata": {},
     "output_type": "execute_result"
    }
   ],
   "source": [
    "X_train.columns"
   ]
  },
  {
   "cell_type": "code",
   "execution_count": 11,
   "metadata": {
    "collapsed": true
   },
   "outputs": [],
   "source": [
    "train = X_train.copy()\n",
    "test = X_test.copy()"
   ]
  },
  {
   "cell_type": "code",
   "execution_count": 12,
   "metadata": {
    "collapsed": false
   },
   "outputs": [],
   "source": [
    "train = train.drop(['PaymentDate_Month'], axis=1)\n",
    "test = test.drop(['PaymentDate_Month'], axis=1)"
   ]
  },
  {
   "cell_type": "code",
   "execution_count": 13,
   "metadata": {
    "collapsed": true
   },
   "outputs": [],
   "source": [
    "features = list(set(train.columns) - set(['Sl.No', 'PaymentRef', 'Account OpenDate', 'PaymentDate', 'PaymentDate_Year', 'AML1', 'AML2', 'AML3']))"
   ]
  },
  {
   "cell_type": "code",
   "execution_count": 15,
   "metadata": {
    "collapsed": false
   },
   "outputs": [
    {
     "name": "stdout",
     "output_type": "stream",
     "text": [
      "Label Encoding...\n",
      "ReceiverAccount\n",
      "ReceiverAddress\n",
      "Custmer Account Number\n",
      "Sent/Received\n",
      "Type\n",
      "CustomerId\n",
      "AccountCurrency\n",
      "SenderAddress\n",
      "SenderName\n",
      "Payment\n",
      "SenderCountry\n",
      "ReceiverName\n",
      "ReceiverCountry\n",
      "SenderCorrespondent\n",
      "ReceiverCorrespondent\n"
     ]
    }
   ],
   "source": [
    "from sklearn.preprocessing import LabelEncoder\n",
    "print(\"Label Encoding...\")\n",
    "for f in train[features].columns:\n",
    "    if train[f].dtype == 'object':\n",
    "        print f\n",
    "        lbl = LabelEncoder()\n",
    "        lbl.fit(list(train[f].values) + list(test[f].values))\n",
    "        train[f] = lbl.transform(list(train[f].values))\n",
    "        test[f] = lbl.transform(list(test[f].values))"
   ]
  },
  {
   "cell_type": "code",
   "execution_count": 16,
   "metadata": {
    "collapsed": true
   },
   "outputs": [],
   "source": [
    "from sklearn.metrics import recall_score, confusion_matrix\n",
    "\n",
    "def aml_score(preds, dtrain):\n",
    "    labels = dtrain.get_label()\n",
    "    preds = (preds >= 0.5).astype(int)\n",
    "    conf_matrix = confusion_matrix(labels, preds)\n",
    "    #score_1 = recall_score(labels, preds) # recall\n",
    "    score_1 = (conf_matrix[1, 1] * 1.) / (conf_matrix[1, 0] + conf_matrix[1, 1])\n",
    "    score_2 = (conf_matrix[1, 0] * 1.) / (conf_matrix[1, 0] + conf_matrix[1, 1])\n",
    "    final_score = score_1 - 0.5 * score_2\n",
    "    return 'AML', max(final_score, 0)"
   ]
  },
  {
   "cell_type": "code",
   "execution_count": 20,
   "metadata": {
    "collapsed": false
   },
   "outputs": [],
   "source": [
    "tr = train[train['PaymentDate'] < '2016-07-01'].reset_index(drop=True)\n",
    "val = train[train['PaymentDate'] >= '2016-07-01'].reset_index(drop=True)\n",
    "\n",
    "dtr = xgb.DMatrix(tr[features], tr['AML1'])\n",
    "dval = xgb.DMatrix(val[features], val['AML1'])"
   ]
  },
  {
   "cell_type": "code",
   "execution_count": 23,
   "metadata": {
    "collapsed": false
   },
   "outputs": [
    {
     "name": "stdout",
     "output_type": "stream",
     "text": [
      "[0]\ttr-AML:0.988568\tval-AML:0.985885\n",
      "[1]\ttr-AML:0.988908\tval-AML:0.986027\n",
      "[2]\ttr-AML:0.988675\tval-AML:0.985956\n",
      "[3]\ttr-AML:0.988192\tval-AML:0.985528\n",
      "[4]\ttr-AML:0.988461\tval-AML:0.985885\n",
      "[5]\ttr-AML:0.989105\tval-AML:0.986669\n",
      "[6]\ttr-AML:0.989892\tval-AML:0.986883\n",
      "[7]\ttr-AML:0.99025\tval-AML:0.987952\n",
      "[8]\ttr-AML:0.989785\tval-AML:0.986954\n",
      "[9]\ttr-AML:0.989874\tval-AML:0.986954\n",
      "[10]\ttr-AML:0.989802\tval-AML:0.986883\n",
      "[11]\ttr-AML:0.98982\tval-AML:0.986883\n",
      "[12]\ttr-AML:0.989874\tval-AML:0.986883\n",
      "[13]\ttr-AML:0.990214\tval-AML:0.987097\n",
      "[14]\ttr-AML:0.990053\tval-AML:0.986954\n",
      "[15]\ttr-AML:0.990053\tval-AML:0.987025\n",
      "[16]\ttr-AML:0.990071\tval-AML:0.987097\n",
      "[17]\ttr-AML:0.990142\tval-AML:0.987097\n",
      "[18]\ttr-AML:0.990107\tval-AML:0.987097\n",
      "[19]\ttr-AML:0.990232\tval-AML:0.987239\n",
      "[20]\ttr-AML:0.990232\tval-AML:0.987168\n",
      "[21]\ttr-AML:0.990286\tval-AML:0.987168\n",
      "[22]\ttr-AML:0.990232\tval-AML:0.987025\n",
      "[23]\ttr-AML:0.990232\tval-AML:0.986954\n",
      "[24]\ttr-AML:0.990286\tval-AML:0.986954\n",
      "[25]\ttr-AML:0.990303\tval-AML:0.987097\n",
      "[26]\ttr-AML:0.990232\tval-AML:0.986954\n",
      "[27]\ttr-AML:0.990447\tval-AML:0.987168\n",
      "[28]\ttr-AML:0.990482\tval-AML:0.987239\n",
      "[29]\ttr-AML:0.990464\tval-AML:0.98731\n",
      "[30]\ttr-AML:0.990947\tval-AML:0.988023\n",
      "[31]\ttr-AML:0.990983\tval-AML:0.988023\n",
      "[32]\ttr-AML:0.991091\tval-AML:0.988023\n",
      "[33]\ttr-AML:0.991091\tval-AML:0.988023\n",
      "[34]\ttr-AML:0.991126\tval-AML:0.988023\n",
      "[35]\ttr-AML:0.99118\tval-AML:0.988095\n",
      "[36]\ttr-AML:0.991198\tval-AML:0.988095\n",
      "[37]\ttr-AML:0.99118\tval-AML:0.988309\n",
      "[38]\ttr-AML:0.99127\tval-AML:0.988237\n",
      "[39]\ttr-AML:0.991198\tval-AML:0.988166\n",
      "[40]\ttr-AML:0.99127\tval-AML:0.988237\n",
      "[41]\ttr-AML:0.991216\tval-AML:0.988095\n",
      "[42]\ttr-AML:0.99152\tval-AML:0.988237\n",
      "[43]\ttr-AML:0.991502\tval-AML:0.988166\n",
      "[44]\ttr-AML:0.991431\tval-AML:0.988166\n",
      "[45]\ttr-AML:0.991538\tval-AML:0.988237\n",
      "[46]\ttr-AML:0.991574\tval-AML:0.988309\n",
      "[47]\ttr-AML:0.991538\tval-AML:0.988309\n",
      "[48]\ttr-AML:0.991627\tval-AML:0.98838\n",
      "[49]\ttr-AML:0.991663\tval-AML:0.98838\n"
     ]
    }
   ],
   "source": [
    "watchlist = [(dtr, 'tr'), (dval, 'val')]\n",
    "bst = xgb.train(params, dtr, num_boost_round=50, evals=watchlist, feval=aml_score, verbose_eval=1)"
   ]
  },
  {
   "cell_type": "code",
   "execution_count": 24,
   "metadata": {
    "collapsed": true
   },
   "outputs": [],
   "source": [
    "dtrain_1 = xgb.DMatrix(train[features], train['AML1'])\n",
    "dtrain_2 = xgb.DMatrix(train[features], train['AML2'])\n",
    "dtrain_3 = xgb.DMatrix(train[features], train['AML3'])\n",
    "dtest = xgb.DMatrix(test[features])"
   ]
  },
  {
   "cell_type": "code",
   "execution_count": 38,
   "metadata": {
    "collapsed": false
   },
   "outputs": [
    {
     "name": "stdout",
     "output_type": "stream",
     "text": [
      "{'seed': 2016, 'tree_method': 'exact', 'booster': 'gbtree', 'colsample_bytree': 0.9, 'silent': 1, 'nthread': 4, 'min_child_weight': 10, 'subsample': 0.8, 'eta': 0.1, 'objective': 'binary:logistic', 'max_depth': 9}\n"
     ]
    }
   ],
   "source": [
    "params = {\"objective\": \"binary:logistic\", \"booster\": \"gbtree\", \"nthread\": 4, \"silent\": 1,\n",
    "                \"eta\": 0.1, \"max_depth\": 9, \"subsample\": 0.9, \"colsample_bytree\": 0.9, \"min_child_weight\": 5,\n",
    "                \"seed\": 2016, \"tree_method\": \"exact\"}\n",
    "print(params)\n",
    "nrounds = 1000\n",
    "# xgb.cv(params, dtrain, num_boost_round=nrounds, nfold=2, feval=aml_score, maximize=True, early_stopping_rounds=100, verbose_eval=20)"
   ]
  },
  {
   "cell_type": "code",
   "execution_count": 33,
   "metadata": {
    "collapsed": false
   },
   "outputs": [
    {
     "name": "stdout",
     "output_type": "stream",
     "text": [
      "[0]\ttr-AML:0.992021\tval-AML:0.991445\n",
      "[10]\ttr-AML:0.992218\tval-AML:0.99173\n",
      "[20]\ttr-AML:0.992701\tval-AML:0.991944\n",
      "[30]\ttr-AML:0.993917\tval-AML:0.99337\n",
      "[40]\ttr-AML:0.994257\tval-AML:0.993441\n",
      "[50]\ttr-AML:0.995617\tval-AML:0.994867\n",
      "[60]\ttr-AML:0.996601\tval-AML:0.995723\n",
      "[70]\ttr-AML:0.997531\tval-AML:0.996935\n",
      "[80]\ttr-AML:0.997835\tval-AML:0.99722\n",
      "[90]\ttr-AML:0.998139\tval-AML:0.997505\n",
      "Done:1\n",
      "[0]\ttr-AML:0\tval-AML:0\n",
      "[10]\ttr-AML:0\tval-AML:0\n",
      "[20]\ttr-AML:0\tval-AML:0\n",
      "[30]\ttr-AML:0\tval-AML:0\n",
      "[40]\ttr-AML:0\tval-AML:0\n",
      "[50]\ttr-AML:0\tval-AML:0\n",
      "[60]\ttr-AML:0\tval-AML:0\n",
      "[70]\ttr-AML:0\tval-AML:0\n",
      "[80]\ttr-AML:0\tval-AML:0\n",
      "[90]\ttr-AML:0\tval-AML:0\n",
      "Done:2\n",
      "[0]\ttr-AML:0\tval-AML:0\n",
      "[10]\ttr-AML:0\tval-AML:0\n",
      "[20]\ttr-AML:0\tval-AML:0\n",
      "[30]\ttr-AML:0\tval-AML:0\n",
      "[40]\ttr-AML:0\tval-AML:0\n",
      "[50]\ttr-AML:0\tval-AML:0\n",
      "[60]\ttr-AML:0\tval-AML:0\n",
      "[70]\ttr-AML:0\tval-AML:0\n",
      "[80]\ttr-AML:0\tval-AML:0\n",
      "[90]\ttr-AML:0\tval-AML:0\n",
      "Done:3\n"
     ]
    }
   ],
   "source": [
    "# watchlist = [(dtrain, 'train')]\n",
    "bst = xgb.train(params, dtrain_1, num_boost_round=100, evals=watchlist, feval=aml_score, verbose_eval=10)\n",
    "test_preds_1 = bst.predict(dtest)\n",
    "print(\"Done:1\")\n",
    "bst = xgb.train(params, dtrain_2, num_boost_round=100, evals=watchlist, feval=aml_score, verbose_eval=10)\n",
    "test_preds_2 = bst.predict(dtest)\n",
    "print(\"Done:2\")\n",
    "bst = xgb.train(params, dtrain_3, num_boost_round=100, evals=watchlist, feval=aml_score, verbose_eval=10)\n",
    "test_preds_3 = bst.predict(dtest)\n",
    "print(\"Done:3\")"
   ]
  },
  {
   "cell_type": "code",
   "execution_count": 34,
   "metadata": {
    "collapsed": true
   },
   "outputs": [],
   "source": [
    "test_preds_11 = (test_preds_1 >= 0.5).astype(int)#[1 if x > 0.5 else 0 for x in test_preds_1]\n",
    "test_preds_22 = (test_preds_2 >= 0.5).astype(int)#[1 if x > 0.5 else 0 for x in test_preds_2]\n",
    "test_preds_33 = (test_preds_3 >= 0.5).astype(int)#[1 if x > 0.5 else 0 for x in test_preds_3]"
   ]
  },
  {
   "cell_type": "code",
   "execution_count": 35,
   "metadata": {
    "collapsed": false
   },
   "outputs": [
    {
     "data": {
      "text/html": [
       "<div>\n",
       "<table border=\"1\" class=\"dataframe\">\n",
       "  <thead>\n",
       "    <tr style=\"text-align: right;\">\n",
       "      <th></th>\n",
       "      <th>Sl.No</th>\n",
       "      <th>AML1</th>\n",
       "      <th>AML2</th>\n",
       "      <th>AML3</th>\n",
       "    </tr>\n",
       "  </thead>\n",
       "  <tbody>\n",
       "    <tr>\n",
       "      <th>0</th>\n",
       "      <td>4362224</td>\n",
       "      <td>0</td>\n",
       "      <td>0</td>\n",
       "      <td>0</td>\n",
       "    </tr>\n",
       "    <tr>\n",
       "      <th>1</th>\n",
       "      <td>4362225</td>\n",
       "      <td>0</td>\n",
       "      <td>0</td>\n",
       "      <td>0</td>\n",
       "    </tr>\n",
       "    <tr>\n",
       "      <th>2</th>\n",
       "      <td>4362226</td>\n",
       "      <td>0</td>\n",
       "      <td>0</td>\n",
       "      <td>0</td>\n",
       "    </tr>\n",
       "    <tr>\n",
       "      <th>3</th>\n",
       "      <td>4362227</td>\n",
       "      <td>0</td>\n",
       "      <td>0</td>\n",
       "      <td>0</td>\n",
       "    </tr>\n",
       "    <tr>\n",
       "      <th>4</th>\n",
       "      <td>4362228</td>\n",
       "      <td>0</td>\n",
       "      <td>1</td>\n",
       "      <td>0</td>\n",
       "    </tr>\n",
       "  </tbody>\n",
       "</table>\n",
       "</div>"
      ],
      "text/plain": [
       "     Sl.No  AML1  AML2  AML3\n",
       "0  4362224     0     0     0\n",
       "1  4362225     0     0     0\n",
       "2  4362226     0     0     0\n",
       "3  4362227     0     0     0\n",
       "4  4362228     0     1     0"
      ]
     },
     "execution_count": 35,
     "metadata": {},
     "output_type": "execute_result"
    }
   ],
   "source": [
    "submit = pd.DataFrame({'Sl.No': test['Sl.No'], 'AML1': test_preds_11, 'AML2': test_preds_22, 'AML3': test_preds_33})\n",
    "submit = submit[['Sl.No', 'AML1', 'AML2', 'AML3']]\n",
    "submit.head()"
   ]
  },
  {
   "cell_type": "code",
   "execution_count": 36,
   "metadata": {
    "collapsed": false
   },
   "outputs": [
    {
     "name": "stdout",
     "output_type": "stream",
     "text": [
      "0    1473639\n",
      "1      29446\n",
      "Name: AML1, dtype: int64\n",
      "0    1478473\n",
      "1      24612\n",
      "Name: AML2, dtype: int64\n",
      "0    1479506\n",
      "1      23579\n",
      "Name: AML3, dtype: int64\n"
     ]
    }
   ],
   "source": [
    "print submit['AML1'].value_counts()\n",
    "print submit['AML2'].value_counts()\n",
    "print submit['AML3'].value_counts()"
   ]
  },
  {
   "cell_type": "code",
   "execution_count": null,
   "metadata": {
    "collapsed": true
   },
   "outputs": [],
   "source": [
    "0    1473832\n",
    "1      29253\n",
    "Name: AML1, dtype: int64\n",
    "0    1479049\n",
    "1      24036\n",
    "Name: AML2, dtype: int64\n",
    "0    1483643\n",
    "1      19442\n",
    "Name: AML3, dtype: int64"
   ]
  },
  {
   "cell_type": "code",
   "execution_count": 37,
   "metadata": {
    "collapsed": true
   },
   "outputs": [],
   "source": [
    "submit.to_csv(\"Submission_5.csv\", index=False)"
   ]
  },
  {
   "cell_type": "code",
   "execution_count": 166,
   "metadata": {
    "collapsed": false
   },
   "outputs": [
    {
     "data": {
      "text/html": [
       "<div>\n",
       "<table border=\"1\" class=\"dataframe\">\n",
       "  <thead>\n",
       "    <tr style=\"text-align: right;\">\n",
       "      <th></th>\n",
       "      <th>index</th>\n",
       "      <th>0</th>\n",
       "    </tr>\n",
       "  </thead>\n",
       "  <tbody>\n",
       "    <tr>\n",
       "      <th>10</th>\n",
       "      <td>ReceiverCountry</td>\n",
       "      <td>339</td>\n",
       "    </tr>\n",
       "    <tr>\n",
       "      <th>1</th>\n",
       "      <td>SenderCountry</td>\n",
       "      <td>264</td>\n",
       "    </tr>\n",
       "    <tr>\n",
       "      <th>2</th>\n",
       "      <td>ReceiverAccount</td>\n",
       "      <td>218</td>\n",
       "    </tr>\n",
       "    <tr>\n",
       "      <th>20</th>\n",
       "      <td>ReceiverCorrespondent</td>\n",
       "      <td>155</td>\n",
       "    </tr>\n",
       "    <tr>\n",
       "      <th>8</th>\n",
       "      <td>Age</td>\n",
       "      <td>127</td>\n",
       "    </tr>\n",
       "    <tr>\n",
       "      <th>13</th>\n",
       "      <td>Amount</td>\n",
       "      <td>93</td>\n",
       "    </tr>\n",
       "    <tr>\n",
       "      <th>15</th>\n",
       "      <td>SenderCorrespondent</td>\n",
       "      <td>80</td>\n",
       "    </tr>\n",
       "    <tr>\n",
       "      <th>3</th>\n",
       "      <td>ReceiverName</td>\n",
       "      <td>79</td>\n",
       "    </tr>\n",
       "    <tr>\n",
       "      <th>4</th>\n",
       "      <td>ReceiverAddress</td>\n",
       "      <td>65</td>\n",
       "    </tr>\n",
       "    <tr>\n",
       "      <th>5</th>\n",
       "      <td>Custmer Account Number</td>\n",
       "      <td>63</td>\n",
       "    </tr>\n",
       "    <tr>\n",
       "      <th>12</th>\n",
       "      <td>SenderAddress</td>\n",
       "      <td>61</td>\n",
       "    </tr>\n",
       "    <tr>\n",
       "      <th>7</th>\n",
       "      <td>Account OpenDate_Year</td>\n",
       "      <td>55</td>\n",
       "    </tr>\n",
       "    <tr>\n",
       "      <th>6</th>\n",
       "      <td>Account OpenDate_Day</td>\n",
       "      <td>53</td>\n",
       "    </tr>\n",
       "    <tr>\n",
       "      <th>14</th>\n",
       "      <td>AccountCurrency</td>\n",
       "      <td>43</td>\n",
       "    </tr>\n",
       "    <tr>\n",
       "      <th>0</th>\n",
       "      <td>Account OpenDate_Month</td>\n",
       "      <td>43</td>\n",
       "    </tr>\n",
       "    <tr>\n",
       "      <th>11</th>\n",
       "      <td>Payment</td>\n",
       "      <td>27</td>\n",
       "    </tr>\n",
       "    <tr>\n",
       "      <th>19</th>\n",
       "      <td>CustomerId</td>\n",
       "      <td>22</td>\n",
       "    </tr>\n",
       "    <tr>\n",
       "      <th>17</th>\n",
       "      <td>Sent/Received</td>\n",
       "      <td>15</td>\n",
       "    </tr>\n",
       "    <tr>\n",
       "      <th>18</th>\n",
       "      <td>SenderName</td>\n",
       "      <td>11</td>\n",
       "    </tr>\n",
       "    <tr>\n",
       "      <th>16</th>\n",
       "      <td>PaymentDate_Day</td>\n",
       "      <td>8</td>\n",
       "    </tr>\n",
       "    <tr>\n",
       "      <th>9</th>\n",
       "      <td>Receiver_Customer</td>\n",
       "      <td>3</td>\n",
       "    </tr>\n",
       "  </tbody>\n",
       "</table>\n",
       "</div>"
      ],
      "text/plain": [
       "                     index    0\n",
       "10         ReceiverCountry  339\n",
       "1            SenderCountry  264\n",
       "2          ReceiverAccount  218\n",
       "20   ReceiverCorrespondent  155\n",
       "8                      Age  127\n",
       "13                  Amount   93\n",
       "15     SenderCorrespondent   80\n",
       "3             ReceiverName   79\n",
       "4          ReceiverAddress   65\n",
       "5   Custmer Account Number   63\n",
       "12           SenderAddress   61\n",
       "7    Account OpenDate_Year   55\n",
       "6     Account OpenDate_Day   53\n",
       "14         AccountCurrency   43\n",
       "0   Account OpenDate_Month   43\n",
       "11                 Payment   27\n",
       "19              CustomerId   22\n",
       "17           Sent/Received   15\n",
       "18              SenderName   11\n",
       "16         PaymentDate_Day    8\n",
       "9        Receiver_Customer    3"
      ]
     },
     "execution_count": 166,
     "metadata": {},
     "output_type": "execute_result"
    }
   ],
   "source": [
    "pd.DataFrame.from_dict(bst.get_fscore(), orient=\"index\").reset_index().sort_values(0, ascending=False)"
   ]
  },
  {
   "cell_type": "code",
   "execution_count": null,
   "metadata": {
    "collapsed": true
   },
   "outputs": [],
   "source": []
  }
 ],
 "metadata": {
  "anaconda-cloud": {},
  "kernelspec": {
   "display_name": "Python 2",
   "language": "python",
   "name": "python2"
  },
  "language_info": {
   "codemirror_mode": {
    "name": "ipython",
    "version": 2
   },
   "file_extension": ".py",
   "mimetype": "text/x-python",
   "name": "python",
   "nbconvert_exporter": "python",
   "pygments_lexer": "ipython2",
   "version": "2.7.12"
  }
 },
 "nbformat": 4,
 "nbformat_minor": 1
}
